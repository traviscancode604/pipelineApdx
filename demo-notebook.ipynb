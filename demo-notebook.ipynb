{
 "cells": [
  {
   "cell_type": "markdown",
   "id": "1fcfe4fb-8fe2-4b66-8e62-92f8e2d0d490",
   "metadata": {
    "tags": []
   },
   "source": [
    "# JupyterLab Demonstration\n",
    "While the main purpose of this notebook is to show the end result of a simple build pipeline, the notebook also show some basic data science techniques. In the notebook, we will:\n",
    "1. Show basic data visualization of data from two different location\n",
    "2. Perform a gap analysis and peer benchmarking\n",
    "\n",
    "The data sets are fictious, but it is useful in simulating a large data set that might be encountered when performing analysis or obtaining data from web scrapping.  \n"
   ]
  },
  {
   "cell_type": "markdown",
   "id": "49d640b6-d750-44a2-a341-e2ae1865eb3f",
   "metadata": {},
   "source": [
    "---\n",
    "\n",
    "## Scenario\n",
    "\n",
    "You are an executive at **Vivendi Universal**. Other members of the C-Suite team have concerns that they're not keeping up with their peers (competitors in the peer group are THQ, Ubisoft, Lucas Arts, Sony and Electronic Arts). Teammates have commented that Vivendi’s average revenue per game over time when compared against those of it's peers is not keeping up. Some of the Programmers and Game Testers at Vivendi believe the reason the company is not keeping up with their peers is because their peers produce more video games that are violent. This poses two questions that need to be answered for the executive team:\n",
    "\n",
    "### Questions:\n",
    "  1. Is it true that violent video games earn more revenue on average than non‐violent video games?\n",
    "  2. Are Vivendi games significantly different in terms of violent content than the games from members of its peer group?\n"
   ]
  },
  {
   "cell_type": "markdown",
   "id": "440bc189-6557-4c0c-96d5-3d941ce3739d",
   "metadata": {
    "tags": []
   },
   "source": [
    "---\n",
    "\n",
    "## Libraries"
   ]
  },
  {
   "cell_type": "code",
   "execution_count": 1,
   "id": "648bf21d-1925-4900-b743-903b232d6233",
   "metadata": {},
   "outputs": [],
   "source": [
    "import pandas as pd\n",
    "import seaborn as sns\n",
    "from scipy import stats"
   ]
  },
  {
   "cell_type": "markdown",
   "id": "fdcec462-9e8d-412c-afdd-a6be9a41b7ff",
   "metadata": {
    "tags": []
   },
   "source": [
    "---\n",
    "\n",
    "## Import Data"
   ]
  },
  {
   "cell_type": "markdown",
   "id": "4d9f4ba8-d670-4c8b-8910-18e6f11a5bef",
   "metadata": {},
   "source": [
    "### Game Specific Data"
   ]
  },
  {
   "cell_type": "code",
   "execution_count": 2,
   "id": "1e2a1c11-5647-4b0e-ac03-183bec1cf76b",
   "metadata": {},
   "outputs": [
    {
     "data": {
      "text/html": [
       "<div>\n",
       "<style scoped>\n",
       "    .dataframe tbody tr th:only-of-type {\n",
       "        vertical-align: middle;\n",
       "    }\n",
       "\n",
       "    .dataframe tbody tr th {\n",
       "        vertical-align: top;\n",
       "    }\n",
       "\n",
       "    .dataframe thead th {\n",
       "        text-align: right;\n",
       "    }\n",
       "</style>\n",
       "<table border=\"1\" class=\"dataframe\">\n",
       "  <thead>\n",
       "    <tr style=\"text-align: right;\">\n",
       "      <th></th>\n",
       "      <th>COMB Title</th>\n",
       "      <th>NumberOfConsoles</th>\n",
       "      <th>GCN</th>\n",
       "      <th>XBX</th>\n",
       "      <th>PS2</th>\n",
       "      <th>Brand</th>\n",
       "      <th>License</th>\n",
       "      <th>Publisher</th>\n",
       "      <th>Developer</th>\n",
       "      <th>NPD Super Genre</th>\n",
       "      <th>NPD Sub Genre</th>\n",
       "      <th>Launch</th>\n",
       "      <th>Launch Year</th>\n",
       "      <th>Launch Month</th>\n",
       "      <th>ESRB</th>\n",
       "      <th>Online</th>\n",
       "      <th>Vivendi</th>\n",
       "      <th>Peer group</th>\n",
       "      <th>Violent genre</th>\n",
       "    </tr>\n",
       "  </thead>\n",
       "  <tbody>\n",
       "    <tr>\n",
       "      <th>0</th>\n",
       "      <td>.HACK: INFECTION</td>\n",
       "      <td>1</td>\n",
       "      <td>0</td>\n",
       "      <td>0</td>\n",
       "      <td>1</td>\n",
       "      <td>.HACK</td>\n",
       "      <td>NaN</td>\n",
       "      <td>BANDAI</td>\n",
       "      <td>CYBERCONNECT2</td>\n",
       "      <td>RPG</td>\n",
       "      <td>RPG</td>\n",
       "      <td>01-Feb-03</td>\n",
       "      <td>2003</td>\n",
       "      <td>2</td>\n",
       "      <td>T</td>\n",
       "      <td>NO</td>\n",
       "      <td>No</td>\n",
       "      <td>No</td>\n",
       "      <td>Non violent</td>\n",
       "    </tr>\n",
       "    <tr>\n",
       "      <th>1</th>\n",
       "      <td>.HACK: MUTATION</td>\n",
       "      <td>1</td>\n",
       "      <td>0</td>\n",
       "      <td>0</td>\n",
       "      <td>1</td>\n",
       "      <td>.HACK</td>\n",
       "      <td>NaN</td>\n",
       "      <td>BANDAI</td>\n",
       "      <td>CYBERCONNECT2</td>\n",
       "      <td>RPG</td>\n",
       "      <td>RPG</td>\n",
       "      <td>01-May-03</td>\n",
       "      <td>2003</td>\n",
       "      <td>5</td>\n",
       "      <td>T</td>\n",
       "      <td>NO</td>\n",
       "      <td>No</td>\n",
       "      <td>No</td>\n",
       "      <td>Non violent</td>\n",
       "    </tr>\n",
       "  </tbody>\n",
       "</table>\n",
       "</div>"
      ],
      "text/plain": [
       "         COMB Title  NumberOfConsoles  GCN  XBX  PS2  Brand License Publisher  \\\n",
       "0  .HACK: INFECTION                 1    0    0    1  .HACK     NaN   BANDAI    \n",
       "1   .HACK: MUTATION                 1    0    0    1  .HACK     NaN   BANDAI    \n",
       "\n",
       "       Developer NPD Super Genre NPD Sub Genre     Launch  Launch Year  \\\n",
       "0  CYBERCONNECT2             RPG           RPG  01-Feb-03         2003   \n",
       "1  CYBERCONNECT2             RPG           RPG  01-May-03         2003   \n",
       "\n",
       "   Launch Month ESRB Online Vivendi Peer group Violent genre  \n",
       "0             2    T     NO      No         No   Non violent  \n",
       "1             5    T     NO      No         No   Non violent  "
      ]
     },
     "execution_count": 2,
     "metadata": {},
     "output_type": "execute_result"
    }
   ],
   "source": [
    "genre_data = pd.read_csv(\"game-genre-data.csv\")\n",
    "# Confirm data import was a success.\n",
    "genre_data.head(2)"
   ]
  },
  {
   "cell_type": "code",
   "execution_count": 3,
   "id": "bf452c28-83c9-4eeb-91cb-17d975213137",
   "metadata": {},
   "outputs": [
    {
     "data": {
      "text/plain": [
       "(1256, 19)"
      ]
     },
     "execution_count": 3,
     "metadata": {},
     "output_type": "execute_result"
    }
   ],
   "source": [
    "# Confirm we have same number of rows\n",
    "genre_data.shape"
   ]
  },
  {
   "cell_type": "markdown",
   "id": "71639a74-eedc-4a57-b7f5-03c2c051b97a",
   "metadata": {},
   "source": [
    "### Game Sales Data"
   ]
  },
  {
   "cell_type": "code",
   "execution_count": 4,
   "id": "9df605bc-a485-4465-9fdc-109dd5f4decf",
   "metadata": {},
   "outputs": [
    {
     "data": {
      "text/html": [
       "<div>\n",
       "<style scoped>\n",
       "    .dataframe tbody tr th:only-of-type {\n",
       "        vertical-align: middle;\n",
       "    }\n",
       "\n",
       "    .dataframe tbody tr th {\n",
       "        vertical-align: top;\n",
       "    }\n",
       "\n",
       "    .dataframe thead th {\n",
       "        text-align: right;\n",
       "    }\n",
       "</style>\n",
       "<table border=\"1\" class=\"dataframe\">\n",
       "  <thead>\n",
       "    <tr style=\"text-align: right;\">\n",
       "      <th></th>\n",
       "      <th>COMB Title</th>\n",
       "      <th>Review</th>\n",
       "      <th>AvgReleaseYearPrice</th>\n",
       "      <th>PriorSaleBrand (M)</th>\n",
       "      <th>TotalPriorSalesBrand (M)</th>\n",
       "      <th>ConcurrentReleaseBrand</th>\n",
       "      <th>ConcurrentReleaseGenre</th>\n",
       "      <th>PriorReleaseBrand</th>\n",
       "      <th>PriorReleaseGenre</th>\n",
       "      <th>FirstYearUnits</th>\n",
       "      <th>FirstYearSales (M)</th>\n",
       "      <th>FirstYearRatio</th>\n",
       "      <th>LTD ASP</th>\n",
       "      <th>LTD Units</th>\n",
       "      <th>LTD Dollars (M)</th>\n",
       "    </tr>\n",
       "  </thead>\n",
       "  <tbody>\n",
       "    <tr>\n",
       "      <th>0</th>\n",
       "      <td>.HACK: INFECTION</td>\n",
       "      <td>76.599998</td>\n",
       "      <td>42.0</td>\n",
       "      <td>0.0</td>\n",
       "      <td>0.0</td>\n",
       "      <td>2</td>\n",
       "      <td>15</td>\n",
       "      <td>0</td>\n",
       "      <td>28</td>\n",
       "      <td>341506</td>\n",
       "      <td>14.08</td>\n",
       "      <td>92.09%</td>\n",
       "      <td>38.0</td>\n",
       "      <td>402687</td>\n",
       "      <td>15.29</td>\n",
       "    </tr>\n",
       "    <tr>\n",
       "      <th>1</th>\n",
       "      <td>.HACK: MUTATION</td>\n",
       "      <td>74.099998</td>\n",
       "      <td>44.0</td>\n",
       "      <td>0.0</td>\n",
       "      <td>0.0</td>\n",
       "      <td>2</td>\n",
       "      <td>15</td>\n",
       "      <td>0</td>\n",
       "      <td>28</td>\n",
       "      <td>166288</td>\n",
       "      <td>7.14</td>\n",
       "      <td>92.92%</td>\n",
       "      <td>41.0</td>\n",
       "      <td>185581</td>\n",
       "      <td>7.68</td>\n",
       "    </tr>\n",
       "  </tbody>\n",
       "</table>\n",
       "</div>"
      ],
      "text/plain": [
       "         COMB Title     Review  AvgReleaseYearPrice  PriorSaleBrand (M)  \\\n",
       "0  .HACK: INFECTION  76.599998                 42.0                 0.0   \n",
       "1   .HACK: MUTATION  74.099998                 44.0                 0.0   \n",
       "\n",
       "   TotalPriorSalesBrand (M)  ConcurrentReleaseBrand  ConcurrentReleaseGenre  \\\n",
       "0                       0.0                       2                      15   \n",
       "1                       0.0                       2                      15   \n",
       "\n",
       "   PriorReleaseBrand  PriorReleaseGenre  FirstYearUnits  FirstYearSales (M)  \\\n",
       "0                  0                 28          341506               14.08   \n",
       "1                  0                 28          166288                7.14   \n",
       "\n",
       "  FirstYearRatio  LTD ASP  LTD Units  LTD Dollars (M)  \n",
       "0         92.09%     38.0     402687            15.29  \n",
       "1         92.92%     41.0     185581             7.68  "
      ]
     },
     "execution_count": 4,
     "metadata": {},
     "output_type": "execute_result"
    }
   ],
   "source": [
    "sales_data = pd.read_csv(\"game-sales-data.csv\")\n",
    "sales_data.head(2)"
   ]
  },
  {
   "cell_type": "code",
   "execution_count": 5,
   "id": "0e14763f-5966-4f6c-a09f-7ebbc133214f",
   "metadata": {},
   "outputs": [
    {
     "data": {
      "text/plain": [
       "(1256, 15)"
      ]
     },
     "execution_count": 5,
     "metadata": {},
     "output_type": "execute_result"
    }
   ],
   "source": [
    "sales_data.shape"
   ]
  },
  {
   "cell_type": "markdown",
   "id": "f9417118-b0d4-44cd-a9d4-b56fbf796221",
   "metadata": {},
   "source": [
    "### Combine into Single Data Frame"
   ]
  },
  {
   "cell_type": "code",
   "execution_count": 6,
   "id": "d6c0a5ff-3b4d-4264-aee8-db14af19e414",
   "metadata": {},
   "outputs": [
    {
     "data": {
      "text/html": [
       "<div>\n",
       "<style scoped>\n",
       "    .dataframe tbody tr th:only-of-type {\n",
       "        vertical-align: middle;\n",
       "    }\n",
       "\n",
       "    .dataframe tbody tr th {\n",
       "        vertical-align: top;\n",
       "    }\n",
       "\n",
       "    .dataframe thead th {\n",
       "        text-align: right;\n",
       "    }\n",
       "</style>\n",
       "<table border=\"1\" class=\"dataframe\">\n",
       "  <thead>\n",
       "    <tr style=\"text-align: right;\">\n",
       "      <th></th>\n",
       "      <th>COMB Title</th>\n",
       "      <th>NumberOfConsoles</th>\n",
       "      <th>GCN</th>\n",
       "      <th>XBX</th>\n",
       "      <th>PS2</th>\n",
       "      <th>Brand</th>\n",
       "      <th>License</th>\n",
       "      <th>Publisher</th>\n",
       "      <th>Developer</th>\n",
       "      <th>NPD Super Genre</th>\n",
       "      <th>...</th>\n",
       "      <th>ConcurrentReleaseBrand</th>\n",
       "      <th>ConcurrentReleaseGenre</th>\n",
       "      <th>PriorReleaseBrand</th>\n",
       "      <th>PriorReleaseGenre</th>\n",
       "      <th>FirstYearUnits</th>\n",
       "      <th>FirstYearSales (M)</th>\n",
       "      <th>FirstYearRatio</th>\n",
       "      <th>LTD ASP</th>\n",
       "      <th>LTD Units</th>\n",
       "      <th>LTD Dollars (M)</th>\n",
       "    </tr>\n",
       "  </thead>\n",
       "  <tbody>\n",
       "    <tr>\n",
       "      <th>0</th>\n",
       "      <td>.HACK: INFECTION</td>\n",
       "      <td>1</td>\n",
       "      <td>0</td>\n",
       "      <td>0</td>\n",
       "      <td>1</td>\n",
       "      <td>.HACK</td>\n",
       "      <td>NaN</td>\n",
       "      <td>BANDAI</td>\n",
       "      <td>CYBERCONNECT2</td>\n",
       "      <td>RPG</td>\n",
       "      <td>...</td>\n",
       "      <td>2</td>\n",
       "      <td>15</td>\n",
       "      <td>0</td>\n",
       "      <td>28</td>\n",
       "      <td>341506</td>\n",
       "      <td>14.08</td>\n",
       "      <td>92.09%</td>\n",
       "      <td>38.0</td>\n",
       "      <td>402687</td>\n",
       "      <td>15.29</td>\n",
       "    </tr>\n",
       "    <tr>\n",
       "      <th>1</th>\n",
       "      <td>.HACK: MUTATION</td>\n",
       "      <td>1</td>\n",
       "      <td>0</td>\n",
       "      <td>0</td>\n",
       "      <td>1</td>\n",
       "      <td>.HACK</td>\n",
       "      <td>NaN</td>\n",
       "      <td>BANDAI</td>\n",
       "      <td>CYBERCONNECT2</td>\n",
       "      <td>RPG</td>\n",
       "      <td>...</td>\n",
       "      <td>2</td>\n",
       "      <td>15</td>\n",
       "      <td>0</td>\n",
       "      <td>28</td>\n",
       "      <td>166288</td>\n",
       "      <td>7.14</td>\n",
       "      <td>92.92%</td>\n",
       "      <td>41.0</td>\n",
       "      <td>185581</td>\n",
       "      <td>7.68</td>\n",
       "    </tr>\n",
       "  </tbody>\n",
       "</table>\n",
       "<p>2 rows × 33 columns</p>\n",
       "</div>"
      ],
      "text/plain": [
       "         COMB Title  NumberOfConsoles  GCN  XBX  PS2  Brand License Publisher  \\\n",
       "0  .HACK: INFECTION                 1    0    0    1  .HACK     NaN   BANDAI    \n",
       "1   .HACK: MUTATION                 1    0    0    1  .HACK     NaN   BANDAI    \n",
       "\n",
       "       Developer NPD Super Genre  ... ConcurrentReleaseBrand  \\\n",
       "0  CYBERCONNECT2             RPG  ...                      2   \n",
       "1  CYBERCONNECT2             RPG  ...                      2   \n",
       "\n",
       "  ConcurrentReleaseGenre  PriorReleaseBrand  PriorReleaseGenre FirstYearUnits  \\\n",
       "0                     15                  0                 28         341506   \n",
       "1                     15                  0                 28         166288   \n",
       "\n",
       "  FirstYearSales (M) FirstYearRatio LTD ASP LTD Units  LTD Dollars (M)  \n",
       "0              14.08         92.09%    38.0    402687            15.29  \n",
       "1               7.14         92.92%    41.0    185581             7.68  \n",
       "\n",
       "[2 rows x 33 columns]"
      ]
     },
     "execution_count": 6,
     "metadata": {},
     "output_type": "execute_result"
    }
   ],
   "source": [
    "data = pd.merge(genre_data, sales_data)\n",
    "data.head(2)"
   ]
  },
  {
   "cell_type": "markdown",
   "id": "d5cc8aee-a24d-43dd-889b-90fa0a882861",
   "metadata": {
    "tags": []
   },
   "source": [
    "---\n",
    "\n",
    "## Data Exploration"
   ]
  },
  {
   "cell_type": "code",
   "execution_count": 7,
   "id": "9859b77a-e4de-446a-9da2-bd6571719f95",
   "metadata": {},
   "outputs": [
    {
     "data": {
      "text/html": [
       "<div>\n",
       "<style scoped>\n",
       "    .dataframe tbody tr th:only-of-type {\n",
       "        vertical-align: middle;\n",
       "    }\n",
       "\n",
       "    .dataframe tbody tr th {\n",
       "        vertical-align: top;\n",
       "    }\n",
       "\n",
       "    .dataframe thead th {\n",
       "        text-align: right;\n",
       "    }\n",
       "</style>\n",
       "<table border=\"1\" class=\"dataframe\">\n",
       "  <thead>\n",
       "    <tr style=\"text-align: right;\">\n",
       "      <th></th>\n",
       "      <th>LTD Dollars (M)</th>\n",
       "    </tr>\n",
       "  </thead>\n",
       "  <tbody>\n",
       "    <tr>\n",
       "      <th>count</th>\n",
       "      <td>1256.00</td>\n",
       "    </tr>\n",
       "    <tr>\n",
       "      <th>mean</th>\n",
       "      <td>13.33</td>\n",
       "    </tr>\n",
       "    <tr>\n",
       "      <th>std</th>\n",
       "      <td>26.57</td>\n",
       "    </tr>\n",
       "    <tr>\n",
       "      <th>min</th>\n",
       "      <td>0.00</td>\n",
       "    </tr>\n",
       "    <tr>\n",
       "      <th>25%</th>\n",
       "      <td>1.62</td>\n",
       "    </tr>\n",
       "    <tr>\n",
       "      <th>50%</th>\n",
       "      <td>4.06</td>\n",
       "    </tr>\n",
       "    <tr>\n",
       "      <th>75%</th>\n",
       "      <td>13.23</td>\n",
       "    </tr>\n",
       "    <tr>\n",
       "      <th>max</th>\n",
       "      <td>293.02</td>\n",
       "    </tr>\n",
       "  </tbody>\n",
       "</table>\n",
       "</div>"
      ],
      "text/plain": [
       "       LTD Dollars (M)\n",
       "count          1256.00\n",
       "mean             13.33\n",
       "std              26.57\n",
       "min               0.00\n",
       "25%               1.62\n",
       "50%               4.06\n",
       "75%              13.23\n",
       "max             293.02"
      ]
     },
     "execution_count": 7,
     "metadata": {},
     "output_type": "execute_result"
    }
   ],
   "source": [
    "data[['LTD Dollars (M)']].describe().round(2)"
   ]
  },
  {
   "cell_type": "markdown",
   "id": "93c8cf6e-d036-46dc-ad35-3a60a152d994",
   "metadata": {},
   "source": [
    "### Visualization by Non-Violent and Violent"
   ]
  },
  {
   "cell_type": "code",
   "execution_count": 8,
   "id": "4c47e882-fd68-49c8-b919-b318d9a637cb",
   "metadata": {},
   "outputs": [
    {
     "data": {
      "image/png": "[encoded data removed]",
      "text/plain": [
       "<Figure size 432x288 with 1 Axes>"
      ]
     },
     "metadata": {
      "needs_background": "light"
     },
     "output_type": "display_data"
    }
   ],
   "source": [
    "df = data[['COMB Title', 'LTD Dollars (M)','Peer group', 'Violent genre']]\n",
    "box_plot = sns.boxplot(x = df['Violent genre'], y = df[\"LTD Dollars (M)\"], hue = df['Peer group'], palette=\"Set1\", width = 0.75)"
   ]
  },
  {
   "cell_type": "markdown",
   "id": "b9c71068-0482-4616-9b83-7cec038e1f29",
   "metadata": {},
   "source": [
    "### Blown Up View of Boxplot"
   ]
  },
  {
   "cell_type": "code",
   "execution_count": 9,
   "id": "b6303e31-cf02-4ef9-ae11-f26e5cb186c4",
   "metadata": {},
   "outputs": [
    {
     "data": {
      "text/plain": [
       "[(0.0, 30.0)]"
      ]
     },
     "execution_count": 9,
     "metadata": {},
     "output_type": "execute_result"
    },
    {
     "data": {
      "image/png": "[encoded data removed]",
      "text/plain": [
       "<Figure size 432x288 with 1 Axes>"
      ]
     },
     "metadata": {
      "needs_background": "light"
     },
     "output_type": "display_data"
    }
   ],
   "source": [
    "big_box_plot = sns.boxplot(x = df['Violent genre'], y = df[\"LTD Dollars (M)\"], hue = df['Peer group'], palette=\"Set1\", width = 0.75)\n",
    "big_box_plot.set(ylim=(0,30))"
   ]
  },
  {
   "cell_type": "markdown",
   "id": "f5b7917a-8bf0-47f9-8faa-393d7a67ec9d",
   "metadata": {},
   "source": [
    "---\n",
    "\n",
    "## Question 1\n",
    "**Is it true that violent video games earn more revenue on average than non‐violent video games?**\n",
    "\n",
    "### Answer:\n",
    "**Yes, violent video games do earn more revenue** on average than non-violent video games.\n",
    "\n",
    "We can utilize a pivot table to show the correlation between average life to date (LTD) revenues for violent and non-violent video games. "
   ]
  },
  {
   "cell_type": "code",
   "execution_count": 10,
   "id": "c01a457d-6522-48a3-ae63-497359237570",
   "metadata": {},
   "outputs": [
    {
     "data": {
      "text/html": [
       "<div>\n",
       "<style scoped>\n",
       "    .dataframe tbody tr th:only-of-type {\n",
       "        vertical-align: middle;\n",
       "    }\n",
       "\n",
       "    .dataframe tbody tr th {\n",
       "        vertical-align: top;\n",
       "    }\n",
       "\n",
       "    .dataframe thead tr th {\n",
       "        text-align: left;\n",
       "    }\n",
       "\n",
       "    .dataframe thead tr:last-of-type th {\n",
       "        text-align: right;\n",
       "    }\n",
       "</style>\n",
       "<table border=\"1\" class=\"dataframe\">\n",
       "  <thead>\n",
       "    <tr>\n",
       "      <th></th>\n",
       "      <th colspan=\"2\" halign=\"left\">LTD Dollars (M)</th>\n",
       "    </tr>\n",
       "    <tr>\n",
       "      <th>Violent genre</th>\n",
       "      <th>Non violent</th>\n",
       "      <th>Violent</th>\n",
       "    </tr>\n",
       "    <tr>\n",
       "      <th>Peer group</th>\n",
       "      <th></th>\n",
       "      <th></th>\n",
       "    </tr>\n",
       "  </thead>\n",
       "  <tbody>\n",
       "    <tr>\n",
       "      <th>No</th>\n",
       "      <td>8.168813</td>\n",
       "      <td>14.175191</td>\n",
       "    </tr>\n",
       "    <tr>\n",
       "      <th>Yes</th>\n",
       "      <td>20.098174</td>\n",
       "      <td>21.232403</td>\n",
       "    </tr>\n",
       "  </tbody>\n",
       "</table>\n",
       "</div>"
      ],
      "text/plain": [
       "              LTD Dollars (M)           \n",
       "Violent genre     Non violent    Violent\n",
       "Peer group                              \n",
       "No                   8.168813  14.175191\n",
       "Yes                 20.098174  21.232403"
      ]
     },
     "execution_count": 10,
     "metadata": {},
     "output_type": "execute_result"
    }
   ],
   "source": [
    "ltd_sales = data[['COMB Title', 'LTD Dollars (M)','Peer group', 'Violent genre']]\n",
    "pivot_table = pd.pivot_table(ltd_sales, values = ['LTD Dollars (M)'], index=['Peer group'] , columns = ['Violent genre'])\n",
    "pivot_table"
   ]
  },
  {
   "cell_type": "markdown",
   "id": "349ed5c8-fa5e-4336-bc34-c2d30ec41109",
   "metadata": {},
   "source": [
    "---\n",
    "\n",
    "## Question 2\n",
    "**Are Vivendi games significantly different in terms of violent content than the games from members of its peer group?**"
   ]
  },
  {
   "cell_type": "markdown",
   "id": "e5e00b22-7db5-4dd6-a4a6-06bbcb4a1874",
   "metadata": {},
   "source": [
    "### Answer:\n",
    "**Yes, Vivendi games are significantly different** in terms of violent content than the games from members of its peer group as determined from a contingency table and Chi-Square test.\n",
    "\n",
    "### Explanation:\n",
    "- In statistics, the **null hypothesis** is your initial assumption and is usually one of equality.\n",
    "- In hypothesis testing, the **probability value (p-value)** is the probability of obtaining test results at least as extreme as the results actually observed during the test, **assuming that the null hypothesis is correct**.\n",
    "- We can use a **Chi-Square test to test** for an association between variables:\n",
    "    - If the observed frequencies **equal** the expected frequencies, there is **no association between the variables**.\n",
    "    - If the observed frequencies **do not equal** the expected frequencies, **there is an association between the variables**."
   ]
  },
  {
   "cell_type": "code",
   "execution_count": 11,
   "id": "2d72122e-7d90-4f46-a593-c771e7aaa226",
   "metadata": {},
   "outputs": [],
   "source": [
    "# First, lets filter the data to include only our peer group.\n",
    "peer_mask = data['Peer group'] == \"Yes\"\n",
    "peers = data[peer_mask]"
   ]
  },
  {
   "cell_type": "markdown",
   "id": "98d10102-c996-47f2-b2c6-a4032a48bdd6",
   "metadata": {},
   "source": [
    "#### Observed Relative Frequency Table"
   ]
  },
  {
   "cell_type": "code",
   "execution_count": 12,
   "id": "19670268-b55d-43a6-a818-ad354657e95e",
   "metadata": {},
   "outputs": [
    {
     "data": {
      "text/html": [
       "<div>\n",
       "<style scoped>\n",
       "    .dataframe tbody tr th:only-of-type {\n",
       "        vertical-align: middle;\n",
       "    }\n",
       "\n",
       "    .dataframe tbody tr th {\n",
       "        vertical-align: top;\n",
       "    }\n",
       "\n",
       "    .dataframe thead th {\n",
       "        text-align: right;\n",
       "    }\n",
       "</style>\n",
       "<table border=\"1\" class=\"dataframe\">\n",
       "  <thead>\n",
       "    <tr style=\"text-align: right;\">\n",
       "      <th></th>\n",
       "      <th>Violent genre</th>\n",
       "      <th>Non violent</th>\n",
       "      <th>Violent</th>\n",
       "      <th>All</th>\n",
       "    </tr>\n",
       "    <tr>\n",
       "      <th>Vivendi</th>\n",
       "      <th>Peer group</th>\n",
       "      <th></th>\n",
       "      <th></th>\n",
       "      <th></th>\n",
       "    </tr>\n",
       "  </thead>\n",
       "  <tbody>\n",
       "    <tr>\n",
       "      <th>No</th>\n",
       "      <th>Yes</th>\n",
       "      <td>219</td>\n",
       "      <td>102</td>\n",
       "      <td>321</td>\n",
       "    </tr>\n",
       "    <tr>\n",
       "      <th>Vivendi</th>\n",
       "      <th>Yes</th>\n",
       "      <td>11</td>\n",
       "      <td>27</td>\n",
       "      <td>38</td>\n",
       "    </tr>\n",
       "    <tr>\n",
       "      <th>All</th>\n",
       "      <th></th>\n",
       "      <td>230</td>\n",
       "      <td>129</td>\n",
       "      <td>359</td>\n",
       "    </tr>\n",
       "  </tbody>\n",
       "</table>\n",
       "</div>"
      ],
      "text/plain": [
       "Violent genre       Non violent  Violent  All\n",
       "Vivendi Peer group                           \n",
       "No      Yes                 219      102  321\n",
       "Vivendi Yes                  11       27   38\n",
       "All                         230      129  359"
      ]
     },
     "execution_count": 12,
     "metadata": {},
     "output_type": "execute_result"
    }
   ],
   "source": [
    "orf_table = pd.crosstab([data['Vivendi'], peers['Peer group']],data['Violent genre'] ,margins = True)\n",
    "orf_table"
   ]
  },
  {
   "cell_type": "markdown",
   "id": "a2b57c96-2218-4930-9b36-958c6a24f818",
   "metadata": {},
   "source": [
    "#### Expected Frequency Table"
   ]
  },
  {
   "cell_type": "code",
   "execution_count": 13,
   "id": "fc9ffe55-30a9-4783-b760-4caa596304b8",
   "metadata": {},
   "outputs": [
    {
     "data": {
      "text/html": [
       "<div>\n",
       "<style scoped>\n",
       "    .dataframe tbody tr th:only-of-type {\n",
       "        vertical-align: middle;\n",
       "    }\n",
       "\n",
       "    .dataframe tbody tr th {\n",
       "        vertical-align: top;\n",
       "    }\n",
       "\n",
       "    .dataframe thead th {\n",
       "        text-align: right;\n",
       "    }\n",
       "</style>\n",
       "<table border=\"1\" class=\"dataframe\">\n",
       "  <thead>\n",
       "    <tr style=\"text-align: right;\">\n",
       "      <th></th>\n",
       "      <th>Non-Violent</th>\n",
       "      <th>Violent</th>\n",
       "      <th>Total</th>\n",
       "    </tr>\n",
       "  </thead>\n",
       "  <tbody>\n",
       "    <tr>\n",
       "      <th>Peer Group</th>\n",
       "      <td>205.654596</td>\n",
       "      <td>115.345404</td>\n",
       "      <td>321.0</td>\n",
       "    </tr>\n",
       "    <tr>\n",
       "      <th>Vivendi</th>\n",
       "      <td>24.345404</td>\n",
       "      <td>13.654596</td>\n",
       "      <td>38.0</td>\n",
       "    </tr>\n",
       "    <tr>\n",
       "      <th>Total</th>\n",
       "      <td>230.000000</td>\n",
       "      <td>129.000000</td>\n",
       "      <td>359.0</td>\n",
       "    </tr>\n",
       "  </tbody>\n",
       "</table>\n",
       "</div>"
      ],
      "text/plain": [
       "            Non-Violent     Violent  Total\n",
       "Peer Group   205.654596  115.345404  321.0\n",
       "Vivendi       24.345404   13.654596   38.0\n",
       "Total        230.000000  129.000000  359.0"
      ]
     },
     "execution_count": 13,
     "metadata": {},
     "output_type": "execute_result"
    }
   ],
   "source": [
    "chi = stats.chi2_contingency(orf_table)\n",
    "ef_table = pd.DataFrame(chi[3], index = ['Peer Group', 'Vivendi', 'Total'], columns = ['Non-Violent', 'Violent', 'Total'])\n",
    "ef_table"
   ]
  },
  {
   "cell_type": "markdown",
   "id": "d7c6a62e-de2a-4e21-9cc1-2266a67c912a",
   "metadata": {},
   "source": [
    "As the observed frequencies do not equal the expected frequencies, there appears to be an association between these two variables. **However**, we don't know whether the association is statistically significant. We must run a **Chi-Square Test**.\n"
   ]
  },
  {
   "cell_type": "markdown",
   "id": "f920f715-23a1-48e7-b3df-b1869bb8dab8",
   "metadata": {},
   "source": [
    "#### Chi-Squared Test of Independence"
   ]
  },
  {
   "cell_type": "code",
   "execution_count": 14,
   "id": "04385562-be22-46fa-9ad9-ba7ba1711399",
   "metadata": {},
   "outputs": [
    {
     "data": {
      "text/html": [
       "<div>\n",
       "<style scoped>\n",
       "    .dataframe tbody tr th:only-of-type {\n",
       "        vertical-align: middle;\n",
       "    }\n",
       "\n",
       "    .dataframe tbody tr th {\n",
       "        vertical-align: top;\n",
       "    }\n",
       "\n",
       "    .dataframe thead th {\n",
       "        text-align: right;\n",
       "    }\n",
       "</style>\n",
       "<table border=\"1\" class=\"dataframe\">\n",
       "  <thead>\n",
       "    <tr style=\"text-align: right;\">\n",
       "      <th></th>\n",
       "      <th>Value</th>\n",
       "    </tr>\n",
       "  </thead>\n",
       "  <tbody>\n",
       "    <tr>\n",
       "      <th>Chi-Squared Statistic</th>\n",
       "      <td>22.768825</td>\n",
       "    </tr>\n",
       "    <tr>\n",
       "      <th>P-Value</th>\n",
       "      <td>0.000141</td>\n",
       "    </tr>\n",
       "    <tr>\n",
       "      <th>Degrees of Freedom</th>\n",
       "      <td>4.000000</td>\n",
       "    </tr>\n",
       "  </tbody>\n",
       "</table>\n",
       "</div>"
      ],
      "text/plain": [
       "                           Value\n",
       "Chi-Squared Statistic  22.768825\n",
       "P-Value                 0.000141\n",
       "Degrees of Freedom      4.000000"
      ]
     },
     "execution_count": 14,
     "metadata": {},
     "output_type": "execute_result"
    }
   ],
   "source": [
    "chi_table = pd.DataFrame([chi[0],chi[1], chi[2]],index = ['Chi-Squared Statistic', 'P-Value', 'Degrees of Freedom'], columns = ['Value'])\n",
    "chi_table"
   ]
  },
  {
   "cell_type": "markdown",
   "id": "9fb6266b-2b0a-49f3-a285-7ee9794a3069",
   "metadata": {},
   "source": [
    "The first row is the Chi-Square Statistic. We can safely ignore this for our analysis.\n",
    "\n",
    "The second line is the **p-value**, or the probability of getting a Chi-Square Statistic that large if the two variables are independent. This p-value is very small (less than 0.05), so **we can accept our alternative hypothesis**: \n",
    "\n",
    "### **There is a relationship between publishers and the violent video games they produce**.\n"
   ]
  },
  {
   "cell_type": "markdown",
   "id": "aacfd57d-ce81-4c1a-933d-3ab5aff714cf",
   "metadata": {},
   "source": [
    "---"
   ]
  }
 ],
 "metadata": {
  "kernelspec": {
   "display_name": "Python 3",
   "language": "python",
   "name": "python3"
  },
  "language_info": {
   "codemirror_mode": {
    "name": "ipython",
    "version": 3
   },
   "file_extension": ".py",
   "mimetype": "text/x-python",
   "name": "python",
   "nbconvert_exporter": "python",
   "pygments_lexer": "ipython3",
   "version": "3.6.15"
  }
 },
 "nbformat": 4,
 "nbformat_minor": 5
}
